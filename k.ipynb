{
 "cells": [
  {
   "cell_type": "code",
   "execution_count": 16,
   "metadata": {},
   "outputs": [
    {
     "name": "stdout",
     "output_type": "stream",
     "text": [
      "2\n"
     ]
    }
   ],
   "source": [
    "i=20\n",
    "j=23\n",
    "k=6\n",
    "c=0\n",
    "for i in range(i,j+1):\n",
    "    Reverse=0\n",
    "    m=i\n",
    "    \n",
    "    \n",
    "    while(i>0):\n",
    "        Reminder = i %10    \n",
    "        Reverse = (Reverse *10) + Reminder    \n",
    "        i = i //10\n",
    "    \n",
    "    \n",
    "    if(abs(m-Reverse)%k ==0):\n",
    "        \n",
    "        c+=1\n",
    "print(c)"
   ]
  },
  {
   "cell_type": "code",
   "execution_count": 6,
   "metadata": {},
   "outputs": [
    {
     "name": "stdout",
     "output_type": "stream",
     "text": [
      "31\n"
     ]
    }
   ],
   "source": [
    "Number=13\n",
    "Reverse = 0    \n",
    "while(Number > 0):    \n",
    "    Reminder = Number %10    \n",
    "    Reverse = (Reverse *10) + Reminder    \n",
    "    Number = Number //10\n",
    "print(Reverse)"
   ]
  },
  {
   "cell_type": "code",
   "execution_count": 36,
   "metadata": {},
   "outputs": [
    {
     "name": "stdout",
     "output_type": "stream",
     "text": [
      "[1, 3, 4, 5]\n",
      "[1, 4, 4, 4, 5, 3]\n",
      "{1, 3, 4, 5}\n",
      "[1, 1, 3, 1]\n",
      "4\n"
     ]
    }
   ],
   "source": [
    "li=[1,4,4,4,5,3]\n",
    "li1=li[:]\n",
    "set1=set(li1)\n",
    "new1=list(set1)\n",
    "print(new1)\n",
    "print(li1)\n",
    "print(set1)\n",
    "newli=[]\n",
    "for i in range(len(new1)):\n",
    "    c=0\n",
    "    for j in range(len(li1)):\n",
    "        if(new1[i]==li1[j]):\n",
    "             c+=1\n",
    "    newli.append(c)\n",
    "print(newli)\n",
    "max=newli[0]\n",
    "for i in range(len(newli)):\n",
    "    if(newli[i]>max):\n",
    "        max=newli[i]\n",
    "for i in range(len(newli)):\n",
    "    if(newli[i]==max):\n",
    "        print(new1[i])\n",
    "        break\n",
    "    \n",
    "\n",
    "        \n",
    "        \n",
    "\n"
   ]
  },
  {
   "cell_type": "code",
   "execution_count": 6,
   "metadata": {},
   "outputs": [
    {
     "name": "stdout",
     "output_type": "stream",
     "text": [
      "[8, 3, 10, 1]\n",
      "1\n"
     ]
    }
   ],
   "source": [
    "li1=[1,2,3,4,3,1]\n",
    "set1=set(li1)\n",
    "newli=list(set1)\n",
    "li2=[7,3,9,1,1,1]\n",
    "li=[]\n",
    "for i in range(len(newli)):\n",
    "    sum=0\n",
    "    for j in range(len(li1)):\n",
    "        if(newli[i]==li1[j]):\n",
    "            sum=sum+li2[j]\n",
    "    li.append(sum)\n",
    "print(li)\n",
    "print(min(li))\n",
    "    "
   ]
  },
  {
   "cell_type": "code",
   "execution_count": null,
   "metadata": {},
   "outputs": [],
   "source": []
  }
 ],
 "metadata": {
  "kernelspec": {
   "display_name": "Python 3",
   "language": "python",
   "name": "python3"
  },
  "language_info": {
   "codemirror_mode": {
    "name": "ipython",
    "version": 3
   },
   "file_extension": ".py",
   "mimetype": "text/x-python",
   "name": "python",
   "nbconvert_exporter": "python",
   "pygments_lexer": "ipython3",
   "version": "3.7.4"
  }
 },
 "nbformat": 4,
 "nbformat_minor": 2
}
